{
 "cells": [
  {
   "cell_type": "code",
   "execution_count": 1,
   "metadata": {},
   "outputs": [],
   "source": [
    "import requests\n",
    "from bs4 import BeautifulSoup\n",
    "from tqdm import tqdm\n",
    "import re, requests, csv, time"
   ]
  },
  {
   "cell_type": "code",
   "execution_count": 2,
   "metadata": {},
   "outputs": [],
   "source": [
    "# Check possibility to scrap webpage - run only once\n",
    "#print(requests.get('https://www.youtube.com/robots.txt').text)"
   ]
  },
  {
   "cell_type": "code",
   "execution_count": 6,
   "metadata": {},
   "outputs": [],
   "source": [
    "# Procedure to return HTML of the website\n",
    "def getSoup(link):\n",
    "    r = requests.get(link)\n",
    "    r.encoding = 'UTF-8'\n",
    "    if r.status_code != 200: return None\n",
    "        #time.sleep(5) # slow down as per youtube 'terms of use' to human speed\n",
    "    return BeautifulSoup(r.text,'lxml')"
   ]
  },
  {
   "cell_type": "code",
   "execution_count": 26,
   "metadata": {},
   "outputs": [
    {
     "name": "stdout",
     "output_type": "stream",
     "text": [
      "<!DOCTYPE html>\n",
      "<html data-cast-api-enabled=\"true\" lang=\"cs\">\n",
      " <head>\n",
      "  <style name=\"www-roboto\">\n",
      "   @font-face{font-family:'Roboto';font-style:italic;font-weight:500;src:local('Roboto Medium Italic'),local('Roboto-MediumItalic'),url(//fonts.gstatic.com/s/roboto/v18/KFOjCnqEu92Fr1Mu51S7ACc0CsE.ttf)format('truetype');}@font-face{font-family:'Roboto';font-style:italic;font-weight:400;src:local('Roboto Italic'),local('Roboto-Italic'),url(//fonts.gstatic.com/s/roboto/v18/KFOkCnqEu92Fr1Mu51xGIzc.ttf)format('truetype');}@font-face{font-family:'Roboto';font-style:normal;font-weight:500;src:local('Roboto Medium'),local('Roboto-Medium'),url(//fonts.gstatic.com/s/roboto/v18/KFOlCnqEu92Fr1MmEU9fChc9.ttf)format('truetype');}@font-face{font-family:'Roboto';font-style:normal;font-weight:400;src:local('Roboto Regular'),local('Roboto-Regular'),url(//fonts.gstatic.com/s/roboto/v18/KFOmCnqEu92Fr1Mu7GxP.ttf)format('truetype');}\n",
      "  </style>\n",
      "  <script name=\"www-roboto\">\n",
      "   if (document.fonts && document.fonts.load) {document.fonts.load(\"400 10pt Roboto\", \"Č\");document.fonts.load(\"500 10pt Roboto\", \"Č\");}\n",
      "  </script>\n",
      "  <script>\n",
      "   var ytcsi = {gt: function(n) {n = (n || '') + 'data_';return ytcsi[n] || (ytcsi[n] = {tick: {},info: {}});},now: window.performance && window.performance.timing &&window.performance.now ? function() {return window.performance.timing.navigationStart + window.performance.now();} : function() {return (new Date()).getTime();},tick: function(l, t, n) {ticks = ytcsi.gt(n).tick;var v = t || ytcsi.now();if (ticks[l]) {ticks['_' + l] = (ticks['_' + l] || [ticks[l]]);ticks['_' + l].push(v);}ticks[l] = v;},info: function(k, v, n) {ytcsi.gt(n).info[k] = v;},setStart: function(s, t, n) {ytcsi.info('yt_sts', s, n);ytcsi.tick('_start', t, n);}};(function(w, d) {ytcsi.setStart('dhs', w.performance ? w.performance.timing.responseStart : null);var isPrerender = (d.visibilityState || d.webkitVisibilityState) == 'prerender';var vName = (!d.visibilityState && d.webkitVisibilityState)? 'webkitvisibilitychange' : 'visibilitychange';if (isPrerender) {ytcsi.info('prerender', 1);var startTick = function() {ytcsi.setStart('dhs');d.removeEventListener(vName, startTick);};d.addEventListener(vName, startTick, false);}if (d.addEventListener) {d.addEventListener(vName, function() {ytcsi.tick('vc');}, false);}var slt = function(el, t) {setTimeout(function() {var n = ytcsi.now();el.loadTime = n;if (el.slt) {el.slt();}}, t);};w.__ytRIL = function(el) {if (!el.getAttribute('data-thumb')) {if (w.requestAnimationFrame) {w.requestAnimationFrame(function() {slt(el, 0);});} else {slt(el, 16);}}};})(window, document);\n",
      "  </script>\n",
      "  <script>\n",
      "   var ytcfg = {d: function() {return (window.yt && yt.config_) || ytcfg.data_ || (ytcfg.data_ = {});},get: function(k, o) {return (k in ytcfg.d()) ? ytcfg.d()[k] : o;},set: function() {var a = arguments;if (a.length > 1) {ytcfg.d()[a[0]] = a[1];} else {for (var k in a[0]) {ytcfg.d()[k] = a[0][k];}}}};\n",
      "  </script>\n",
      "  <script>\n",
      "   ytcfg.set(\"ROOT_VE_TYPE\", 4724);ytcfg.set(\"EVENT_ID\", \"Z2rtXIv2IMyegAe3x5Jw\");\n",
      "  </script>\n",
      "  <script>\n",
      "   (function(){var a={a:\"content-snap-width-1\",b:\"content-snap-width-2\",f:\"content-snap-width-3\"};function f(){var c=[],b;for(b in a)c.push(a[b]);return c}\n",
      "function h(c){var b=f().concat([\"guide-pinned\",\"show-guide\"]),d=b.length,g=[];c.replace(/\\S+/g,function(e){for(var k=0;k<d;k++)if(e==b[k])return;g.push(e)});\n",
      "return g}\n",
      ";function l(c,b,d){var g=document.getElementsByTagName(\"html\")[0],e=h(g.className);c&&1251<=(window.innerWidth||document.documentElement.clientWidth)&&(e.push(\"guide-pinned\"),b&&e.push(\"show-guide\"));d&&(d=(window.innerWidth||document.documentElement.clientWidth)-21-50,1251<=(window.innerWidth||document.documentElement.clientWidth)&&c&&b&&(d-=230),e.push(1262<=d?\"content-snap-width-3\":1056<=d?\"content-snap-width-2\":\"content-snap-width-1\"));g.className=e.join(\" \")}\n",
      "var m=[\"yt\",\"www\",\"masthead\",\"sizing\",\"runBeforeBodyIsReady\"],n=this||self;m[0]in n||\"undefined\"==typeof n.execScript||n.execScript(\"var \"+m[0]);for(var p;m.length&&(p=m.shift());)m.length||void 0===l?n[p]&&n[p]!==Object.prototype[p]?n=n[p]:n=n[p]={}:n[p]=l;}).call(this);\n",
      "\n",
      "      try {window.ytbuffer = {};ytbuffer.handleClick = function(e) {var element = e.target || e.srcElement;while (element.parentElement) {if (/(^| )yt-can-buffer( |$)/.test(element.className)) {window.ytbuffer = {bufferedClick: e};element.className += ' yt-is-buffered';break;}element = element.parentElement;}};if (document.addEventListener) {document.addEventListener('click', ytbuffer.handleClick);} else {document.attachEvent('onclick', ytbuffer.handleClick);}} catch(e) {}\n",
      "\n",
      "    yt.www.masthead.sizing.runBeforeBodyIsReady(true,true,false);\n",
      "  </script>\n",
      "  <script name=\"scheduler/scheduler\" src=\"/yts/jsbin/scheduler-vfl0nTPXR/scheduler.js\" type=\"text/javascript\">\n",
      "  </script>\n",
      "  <link href=\"/yts/cssbin/www-core-vflhhH--z.css\" name=\"www-core\" rel=\"stylesheet\"/>\n",
      "  <link href=\"/yts/cssbin/player-vflExvhM-/www-player.css\" name=\"player/www-player\" rel=\"stylesheet\"/>\n",
      "  <link href=\"/yts/cssbin/www-pageframe-vfldKQBmr.css\" name=\"www-pageframe\" rel=\"stylesheet\"/>\n",
      "  <link href=\"/yts/cssbin/www-guide-vflybhooe.css\" name=\"www-guide\" rel=\"stylesheet\"/>\n",
      "  <title>\n",
      "   tri sestry - YouTube\n",
      "  </title>\n",
      "  <link href=\"https://m.youtube.com/results?search_query=tri+sestry\" media=\"handheld\" rel=\"alternate\"/>\n",
      "  <link href=\"https://m.youtube.com/results?search_query=tri+sestry\" media=\"only screen and (max-width: 640px)\" rel=\"alternate\"/>\n",
      "  <meta content=\"Užívejte si videa a hudbu, kterou milujete, nahrávejte originální obsah a sdílejte to vše s přáteli, rodinou a celým světem na YouTube.\" name=\"description\"/>\n",
      "  <meta content=\"video, sdílení, telefon s kamerou, videotelefon, zdarma, nahrát\" name=\"keywords\"/>\n",
      "  <link href=\"/manifest.json\" rel=\"manifest\"/>\n",
      "  <link href=\"https://www.youtube.com/opensearch?locale=cs_CZ\" rel=\"search\" title=\"Vyhledávání videí ve službě YouTube\" type=\"application/opensearchdescription+xml\"/>\n",
      "  <link href=\"https://s.ytimg.com/yts/img/favicon-vfl8qSV2F.ico\" rel=\"shortcut icon\" type=\"image/x-icon\"/>\n",
      "  <link href=\"/yts/img/favicon_32-vflOogEID.png\" rel=\"icon\" sizes=\"32x32\"/>\n",
      "  <link href=\"/yts/img/favicon_48-vflVjB_Qk.png\" rel=\"icon\" sizes=\"48x48\"/>\n",
      "  <link href=\"/yts/img/favicon_96-vflW9Ec0w.png\" rel=\"icon\" sizes=\"96x96\"/>\n",
      "  <link href=\"/yts/img/favicon_144-vfliLAfaB.png\" rel=\"icon\" sizes=\"144x144\"/>\n",
      "  <meta content=\"#ff0000\" name=\"theme-color\"/>\n",
      "  <link href=\"/yts/cssbin/www-results-vflGgxB5C.css\" name=\"www-results\" rel=\"stylesheet\"/>\n",
      "  <link href=\"/yts/cssbin/www-home-c4-vfl182B0f.css\" name=\"www-home-c4\" rel=\"stylesheet\"/>\n",
      "  <style>\n",
      "   .exp-invert-logo .hats-logo {background: no-repeat url(/yts/img/ringo/hitchhiker/logo_mini_gray-vflfanGkh.png);width: 65px;height: 15px;}.exp-invert-logo #header:before,.exp-invert-logo .ypc-join-family-header .logo,.exp-invert-logo #footer-logo .footer-logo-icon,.exp-invert-logo #yt-masthead #logo-container .logo,.exp-invert-logo #masthead #logo-container,.exp-invert-logo .admin-masthead-logo a,.exp-invert-logo #yt-sidebar-styleguide-logo #logo {background: no-repeat url(/yts/img/ringo/hitchhiker/logo_small-vflHpzGZm.png);width: 100px;height: 30px;}.exp-invert-logo.inverted-hdpi #header:before,.exp-invert-logo.inverted-hdpi .ypc-join-family-header .logo,.exp-invert-logo.inverted-hdpi #footer-logo .footer-logo-icon,.exp-invert-logo.inverted-hdpi #yt-masthead #logo-container .logo,.exp-invert-logo.inverted-hdpi #masthead #logo-container,.exp-invert-logo.inverted-hdpi .admin-masthead-logo a,.exp-invert-logo.inverted-hdpi #yt-sidebar-styleguide-logo #logo {background: no-repeat url(/yts/img/ringo/hitchhiker/logo_small_2x-vfl4_cFqn.png);background-size: 100px 30px;width: 100px;height: 30px;}.exp-invert-logo.exp-fusion-nav-redesign .masthead-logo-renderer-logo {background: no-repeat url(/yts/img/ringo/hitchhiker/yt_play_logo-vflLfk4yD.png);width: 40px;height: 28px;}.exp-invert-logo.inverted-hdpi.exp-fusion-nav-redesign .masthead-logo-renderer-logo {background: no-repeat url(/yts/img/ringo/hitchhiker/yt_play_logo_2x-vflXx5Pg3.png);width: 40px;height: 28px;}@media screen and (max-width: 656px) {.exp-invert-logo #yt-masthead #logo-container .logo {background: no-repeat url(/yts/img/ringo/hitchhiker/yt_play_logo-vflLfk4yD.png);width: 40px;height: 28px;}.exp-invert-logo.inverted-hdpi #yt-masthead #logo-container .logo {background: no-repeat url(/yts/img/ringo/hitchhiker/yt_play_logo_2x-vflXx5Pg3.png);background-size: 40px 28px;width: 40px;height: 28px;}}@media only screen and (min-width: 0px) and (max-width: 498px),only screen and (min-width: 499px) and (max-width: 704px) {.exp-invert-logo.exp-responsive #yt-masthead #logo-container {background: no-repeat url(/yts/img/ringo/hitchhiker/yt_play_logo-vflLfk4yD.png);width: 40px;height: 28px;}.exp-invert-logo.inverted-hdpi.exp-responsive #yt-masthead #logo-container {background: no-repeat url(/yts/img/ringo/hitchhiker/yt_play_logo_2x-vflXx5Pg3.png);background-size: 40px 28px;width: 40px;height: 28px;}}.exp-invert-logo #yt-masthead #logo-container .logo-red {background: no-repeat url(/yts/img/ringo/hitchhiker/logo_youtube_red-vflZxcSR1.png);width: 132px;height: 30px;}.exp-invert-logo.inverted-hdpi #yt-masthead #logo-container .logo-red {background: no-repeat url(/yts/img/ringo/hitchhiker/logo_youtube_red_2x-vflOSHA_n.png);background-size: 132px 30px;width: 132px;height: 30px;}.exp-invert-logo #yt-masthead #logo-container .logo-premium {background: no-repeat url(/yts/img/ringo/hitchhiker/logo_youtube_premium-vfltrvziB.png);width: 108px;height: 30px;}.exp-invert-logo.inverted-hdpi #yt-masthead #logo-container .logo-premium {background: no-repeat url(/yts/img/ringo/hitchhiker/logo_youtube_premium_2x-vflxcbz_g.png);background-size: 108px 30px;width: 108px;height: 30px;}.exp-invert-logo .guide-item .guide-video-youtube-red-icon {background: no-repeat url(/yts/img/ringo/hitchhiker/video_youtube_red-vflovGTdz.png);width: 20px;height: 20px;}.exp-invert-logo.inverted-hdpi .guide-item .guid\n"
     ]
    }
   ],
   "source": [
    "# Test Link to start with:\n",
    "YT_link = 'https://www.youtube.com/results?search_query=tri+sestry'\n",
    "\n",
    "# Apply procedure\n",
    "YTSoup = getSoup(YT_link)\n",
    "\n",
    "# View nesting of tags, show only the first 10001 chars\n",
    "print(YTSoup.prettify()[:10000])"
   ]
  },
  {
   "cell_type": "code",
   "execution_count": 44,
   "metadata": {},
   "outputs": [
    {
     "name": "stdout",
     "output_type": "stream",
     "text": [
      "[]\n"
     ]
    }
   ],
   "source": [
    "# 1. Views\n",
    "#ViewsVideo = YTSoup.find_all('span',{'class':'view-count'})\n",
    "#ViewsVideo = YTSoup.find('span',{'id':'count'})\n",
    "#ViewsVideo = YTSoup.find_all('span', attrs = {'class':'style-scope.ytd-video-meta-block'})\n",
    "\n",
    "\n"
   ]
  },
  {
   "cell_type": "code",
   "execution_count": null,
   "metadata": {},
   "outputs": [],
   "source": []
  },
  {
   "cell_type": "code",
   "execution_count": null,
   "metadata": {},
   "outputs": [],
   "source": []
  }
 ],
 "metadata": {
  "kernelspec": {
   "display_name": "Python 3",
   "language": "python",
   "name": "python3"
  },
  "language_info": {
   "codemirror_mode": {
    "name": "ipython",
    "version": 3
   },
   "file_extension": ".py",
   "mimetype": "text/x-python",
   "name": "python",
   "nbconvert_exporter": "python",
   "pygments_lexer": "ipython3",
   "version": "3.6.7"
  }
 },
 "nbformat": 4,
 "nbformat_minor": 2
}
