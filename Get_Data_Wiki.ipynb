{
 "cells": [
  {
   "cell_type": "code",
   "execution_count": 3,
   "metadata": {},
   "outputs": [],
   "source": [
    "import requests\n",
    "from bs4 import BeautifulSoup\n",
    "from tqdm import tqdm\n",
    "import re"
   ]
  },
  {
   "cell_type": "code",
   "execution_count": 359,
   "metadata": {},
   "outputs": [],
   "source": []
  },
  {
   "cell_type": "code",
   "execution_count": 4,
   "metadata": {},
   "outputs": [],
   "source": [
    "#print(requests.get('http://www.wikipedia.org/robots.txt').text) #Wait option"
   ]
  },
  {
   "cell_type": "code",
   "execution_count": 5,
   "metadata": {},
   "outputs": [],
   "source": [
    "# Procedure to return HTML of the website\n",
    "def getSoup(link):\n",
    "    r = requests.get(link)\n",
    "    r.encoding = 'UTF-8'\n",
    "    return BeautifulSoup(r.text,'lxml')"
   ]
  },
  {
   "cell_type": "markdown",
   "metadata": {},
   "source": [
    "#### Creating the list of metal subgenres"
   ]
  },
  {
   "cell_type": "code",
   "execution_count": 178,
   "metadata": {},
   "outputs": [],
   "source": [
    "# Wikipedia link to metal subgenres\n",
    "link_list_genres = 'https://en.wikipedia.org/wiki/Heavy_metal_genres'\n",
    "\n",
    "# getSoup\n",
    "genres_Soup = getSoup(link_list_genres)"
   ]
  },
  {
   "cell_type": "code",
   "execution_count": 181,
   "metadata": {},
   "outputs": [],
   "source": [
    "# Genres are located under span class:mw-headline which is under h2\n",
    "genres_h2=genres_Soup.find_all('h2')\n",
    "genres=[]\n",
    "for h in genres_h2:\n",
    "    try:\n",
    "        if h.find('span',{'class' : 'mw-headline'}).text in [\"See also\",\"References\"]:\n",
    "            pass\n",
    "        else:\n",
    "            genres.append(h.find('span',{'class' : 'mw-headline'}).text)\n",
    "    except AttributeError:\n",
    "        pass"
   ]
  },
  {
   "cell_type": "code",
   "execution_count": 182,
   "metadata": {},
   "outputs": [
    {
     "data": {
      "text/plain": [
       "['Alternative metal',\n",
       " 'Avant-garde metal',\n",
       " 'Black metal',\n",
       " 'Christian metal',\n",
       " 'Crust punk',\n",
       " 'Death metal',\n",
       " 'Doom metal',\n",
       " 'Extreme metal',\n",
       " 'Folk metal',\n",
       " 'Glam metal',\n",
       " 'Gothic metal',\n",
       " 'Grindcore',\n",
       " 'Grunge',\n",
       " 'Industrial metal',\n",
       " 'Kawaii metal',\n",
       " 'Latin metal',\n",
       " 'Metalcore',\n",
       " 'Neoclassical metal',\n",
       " 'Neue Deutsche Härte',\n",
       " 'Post-metal',\n",
       " 'Power metal',\n",
       " 'Progressive metal',\n",
       " 'Speed metal',\n",
       " 'Stoner metal',\n",
       " 'Symphonic metal',\n",
       " 'Thrash metal',\n",
       " 'Traditional heavy metal']"
      ]
     },
     "execution_count": 182,
     "metadata": {},
     "output_type": "execute_result"
    }
   ],
   "source": [
    "genres"
   ]
  },
  {
   "cell_type": "markdown",
   "metadata": {},
   "source": [
    "#### Getting links to metal subgenres wikipedia pages"
   ]
  },
  {
   "cell_type": "code",
   "execution_count": 318,
   "metadata": {},
   "outputs": [],
   "source": [
    "subgenres_links=[]\n",
    "\n",
    "h2 = genres_Soup.findAll('h2')\n",
    "\n",
    "\n",
    "for i in range(len(h2)):\n",
    "    try:\n",
    "        subgenres_links.append('https://en.wikipedia.org'+h2[i].next_sibling.next_sibling.find('a')['href'])\n",
    "    except AttributeError:\n",
    "        pass\n",
    "    except TypeError:\n",
    "        pass\n",
    "\n",
    "del subgenres_links[-3:]"
   ]
  },
  {
   "cell_type": "code",
   "execution_count": 319,
   "metadata": {},
   "outputs": [
    {
     "data": {
      "text/plain": [
       "['https://en.wikipedia.org/wiki/Alternative_metal',\n",
       " 'https://en.wikipedia.org/wiki/Avant-garde_metal',\n",
       " 'https://en.wikipedia.org/wiki/Black_metal',\n",
       " 'https://en.wikipedia.org/wiki/Christian_metal',\n",
       " 'https://en.wikipedia.org/wiki/Crust_punk',\n",
       " 'https://en.wikipedia.org/wiki/Death_metal',\n",
       " 'https://en.wikipedia.org/wiki/Doom_metal',\n",
       " 'https://en.wikipedia.org/wiki/Extreme_metal',\n",
       " 'https://en.wikipedia.org/wiki/Folk_metal',\n",
       " 'https://en.wikipedia.org/wiki/Glam_metal',\n",
       " 'https://en.wikipedia.org/wiki/Gothic_metal',\n",
       " 'https://en.wikipedia.org/wiki/Grindcore',\n",
       " 'https://en.wikipedia.org/wiki/Grunge',\n",
       " 'https://en.wikipedia.org/wiki/Industrial_metal',\n",
       " 'https://en.wikipedia.org/wiki/Kawaii_metal',\n",
       " 'https://en.wikipedia.org/wiki/Latin_metal',\n",
       " 'https://en.wikipedia.org/wiki/Metalcore',\n",
       " 'https://en.wikipedia.org/wiki/Neoclassical_metal',\n",
       " 'https://en.wikipedia.org/wiki/Neue_Deutsche_H%C3%A4rte',\n",
       " 'https://en.wikipedia.org/wiki/Post-metal',\n",
       " 'https://en.wikipedia.org/wiki/Power_metal',\n",
       " 'https://en.wikipedia.org/wiki/Progressive_metal',\n",
       " 'https://en.wikipedia.org/wiki/Speed_metal',\n",
       " 'https://en.wikipedia.org/wiki/Stoner_rock',\n",
       " 'https://en.wikipedia.org/wiki/Symphonic_metal',\n",
       " 'https://en.wikipedia.org/wiki/Thrash_metal',\n",
       " 'https://en.wikipedia.org/wiki/Traditional_heavy_metal']"
      ]
     },
     "execution_count": 319,
     "metadata": {},
     "output_type": "execute_result"
    }
   ],
   "source": [
    "subgenres_links"
   ]
  },
  {
   "cell_type": "code",
   "execution_count": 323,
   "metadata": {},
   "outputs": [
    {
     "name": "stdout",
     "output_type": "stream",
     "text": [
      "All pages exist\n"
     ]
    }
   ],
   "source": [
    "# test if all generated links work\n",
    "count=0\n",
    "for i in range(len(subgenres_links)):\n",
    "    try:\n",
    "        test=getSoup(subgenres_links[i]).find_all('b')[1].text\n",
    "    except IndexError:\n",
    "        pass\n",
    "    if test==\"Wikipedia does not have an article with this exact name.\":\n",
    "        pass\n",
    "    else:\n",
    "        count+=1\n",
    "if count==len(subgenres_links):\n",
    "    print(\"All pages exist\")\n",
    "else:\n",
    "    print(\"Some of the pages are not available\")"
   ]
  },
  {
   "cell_type": "markdown",
   "metadata": {},
   "source": [
    "#### Getting links to lists of bands in a specific subgenre"
   ]
  },
  {
   "cell_type": "code",
   "execution_count": 444,
   "metadata": {},
   "outputs": [],
   "source": [
    "band_list_links=[]\n",
    "for subgenre in subgenres_links:\n",
    "    try:\n",
    "        band_list_links.append('https://en.wikipedia.org'+getSoup(subgenre).find('span',{'id' : 'See_also'}).parent.find_next_sibling(\"ul\").find(text= re.compile(\"List\")).parent.parent.find('a')['href'])\n",
    "    except AttributeError:\n",
    "        pass"
   ]
  },
  {
   "cell_type": "code",
   "execution_count": 445,
   "metadata": {},
   "outputs": [
    {
     "data": {
      "text/plain": [
       "['https://en.wikipedia.org/wiki/List_of_alternative_metal_artists',\n",
       " 'https://en.wikipedia.org/wiki/List_of_avant-garde_metal_artists',\n",
       " 'https://en.wikipedia.org/wiki/List_of_black_metal_bands',\n",
       " 'https://en.wikipedia.org/wiki/List_of_Christian_metal_artists',\n",
       " 'https://en.wikipedia.org/wiki/List_of_death_metal_bands',\n",
       " 'https://en.wikipedia.org/wiki/List_of_doom_metal_bands',\n",
       " 'https://en.wikipedia.org/wiki/List_of_folk_metal_bands',\n",
       " 'https://en.wikipedia.org/wiki/List_of_glam_metal_bands_and_artists',\n",
       " 'https://en.wikipedia.org/wiki/List_of_gothic_festivals',\n",
       " 'https://en.wikipedia.org/wiki/List_of_grindcore_bands',\n",
       " 'https://en.wikipedia.org/wiki/List_of_grunge_bands',\n",
       " 'https://en.wikipedia.org/wiki/List_of_industrial_metal_bands',\n",
       " 'https://en.wikipedia.org/wiki/List_of_metalcore_bands',\n",
       " 'https://en.wikipedia.org/wiki/List_of_power_metal_bands',\n",
       " 'https://en.wikipedia.org/wiki/List_of_progressive_metal_artists',\n",
       " 'https://en.wikipedia.org/wiki/List_of_speed_metal_bands',\n",
       " 'https://en.wikipedia.org/wiki/List_of_symphonic_metal_bands',\n",
       " 'https://en.wikipedia.org/wiki/List_of_thrash_metal_bands',\n",
       " 'https://en.wikipedia.org/wiki/List_of_heavy_metal_bands']"
      ]
     },
     "execution_count": 445,
     "metadata": {},
     "output_type": "execute_result"
    }
   ],
   "source": [
    "band_list_links"
   ]
  },
  {
   "cell_type": "code",
   "execution_count": null,
   "metadata": {},
   "outputs": [],
   "source": []
  },
  {
   "cell_type": "code",
   "execution_count": null,
   "metadata": {},
   "outputs": [],
   "source": []
  },
  {
   "cell_type": "code",
   "execution_count": null,
   "metadata": {},
   "outputs": [],
   "source": []
  },
  {
   "cell_type": "code",
   "execution_count": null,
   "metadata": {},
   "outputs": [],
   "source": []
  },
  {
   "cell_type": "code",
   "execution_count": null,
   "metadata": {},
   "outputs": [],
   "source": []
  },
  {
   "cell_type": "code",
   "execution_count": null,
   "metadata": {},
   "outputs": [],
   "source": []
  },
  {
   "cell_type": "code",
   "execution_count": 55,
   "metadata": {},
   "outputs": [],
   "source": [
    "# Table of interest is part of class: infobox nowraplinks\n",
    "## Regional scenes: \n",
    "\n",
    "# 1. Infobox\n",
    "RockScenesTable = WikiSoup.find('table',{'class':'infobox nowraplinks'})\n",
    "\n",
    "# 2. Extract the links - Subgenres, Fusion, Regional, Local...\n",
    "## Parents of required content\n",
    "Links = RockScenesTable.findAll('th')\n",
    "RegionalScenes = Links[7].string\n",
    "\n",
    "# Return All below given link to Rock Scenes\n",
    "RegionalScenes = RegionalScenes.find_all_next(string=True)\n",
    "\n",
    "RegionalScenes\n",
    "\n",
    "RockCountries = []\n",
    "\n",
    "#for i in i_max:\n",
    "#    RockCountries.append(RegionalScenes[i])\n",
    "#    \n",
    "#print(RockCountries)\n"
   ]
  },
  {
   "cell_type": "code",
   "execution_count": 62,
   "metadata": {},
   "outputs": [
    {
     "name": "stdout",
     "output_type": "stream",
     "text": [
      "['https://en.wikipedia.org/wiki/Rock_and_roll']\n"
     ]
    }
   ],
   "source": [
    "def getAllLinks(link):\n",
    "    soup = getSoup(link)\n",
    "    #Tracer()()\n",
    "    tds = soup.findAll('table', {'class':'infobox nowraplinks'})\n",
    "    return ['https://en.wikipedia.org' + td.find('a')['href'] for td in tds]\n",
    "\n",
    "links = getAllLinks(wiki_link)\n",
    "print(links)"
   ]
  },
  {
   "cell_type": "code",
   "execution_count": null,
   "metadata": {},
   "outputs": [],
   "source": []
  }
 ],
 "metadata": {
  "kernelspec": {
   "display_name": "Python 3",
   "language": "python",
   "name": "python3"
  },
  "language_info": {
   "codemirror_mode": {
    "name": "ipython",
    "version": 3
   },
   "file_extension": ".py",
   "mimetype": "text/x-python",
   "name": "python",
   "nbconvert_exporter": "python",
   "pygments_lexer": "ipython3",
   "version": "3.6.5"
  }
 },
 "nbformat": 4,
 "nbformat_minor": 2
}
