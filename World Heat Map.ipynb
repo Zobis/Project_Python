{
 "cells": [
  {
   "cell_type": "markdown",
   "metadata": {},
   "source": [
    "## World Choropleth Map\n",
    "\n",
    "#### Source: https://plot.ly/python/choropleth-maps/"
   ]
  },
  {
   "cell_type": "code",
   "execution_count": 8,
   "metadata": {},
   "outputs": [],
   "source": [
    "# Pip install plotly - Terminal command\n",
    "\n",
    "import plotly.plotly as py\n",
    "import pandas as pd\n",
    "import plotly\n",
    "import plotly.graph_objs as go\n",
    "\n",
    "plotly.tools.set_credentials_file(username='Zobis', api_key='zOGSBfrkb5sjtjS1s584')\n",
    "plotly.tools.set_config_file(world_readable=True)\n"
   ]
  },
  {
   "cell_type": "code",
   "execution_count": 60,
   "metadata": {},
   "outputs": [
    {
     "name": "stdout",
     "output_type": "stream",
     "text": [
      "       State  Count Code\n",
      "0    Andorra      1  AND\n",
      "1  Argentina      7  ARG\n",
      "2  Argentina      7  ARG\n",
      "3  Argentina      7  ARG\n",
      "4  Argentina      7  ARG\n"
     ]
    }
   ],
   "source": [
    "# Set scaling according to the data:\n",
    "\n",
    "nMaxValue = 1500\n",
    "\n",
    "# 0 and 4 equal ranges:\n",
    "nDivPoint = nMaxValue / 90000\n",
    "\n",
    "# Title:\n",
    "sTitle = 'Number of Metal bands per country'\n",
    "\n",
    "# Get rid of all columns, everywhere and replace them with nothing\n",
    "\n",
    "df = pd.read_csv('Final_Data_Clean.csv', sep = ';')\n",
    "# auxiliary metrics for number of bands within country\n",
    "df['Count'] = 1\n",
    "\n",
    "Grouped_Data = df.groupby('State').sum()\n",
    "Grouped_Data = pd.merge(Grouped_Data, df[['Code', 'State' ]], left_on = 'State', right_on = 'State', how = 'left')\n",
    "\n",
    "# Show head of data\n",
    "print(Grouped_Data[:5])"
   ]
  },
  {
   "cell_type": "markdown",
   "metadata": {},
   "source": [
    "#### Cleaning the data - Origin (Country)\n",
    "The data are really messy: there is bunch of patterns as well as number of complete nonsenses, which we are not able to solve automatically. Most of the job was done manually to present at least some results and do not lose significant part of data. To be able to use World Heat Map, we need to map column origin with a code of each country provided by authors of Plotly package."
   ]
  },
  {
   "cell_type": "code",
   "execution_count": 21,
   "metadata": {},
   "outputs": [],
   "source": [
    "# We processed origins with Excel formula instead:\n",
    "# Get number of ocurrances of ',' and then take all to the right  from the last column\n",
    "# =TRIM(IF(IFERROR(SEARCH(\",\";D2;SEARCH(\",\";D2;1)+2);0)<>0;\n",
    "#    RIGHT(D2;LEN(D2)-SEARCH(\",\";D2;SEARCH(\",\";D2;1)+1));IF(IFERROR(SEARCH(\",\";D2;1);0)<>0;\n",
    "#        RIGHT(D2;LEN(D2)-SEARCH(\",\";D2;1));D2)))\n",
    "\n",
    "# Ignore bands without country, with more countries, manually change differently set countries, Replace countries with multinames (U. S. x U. S. A x United States etc.)\n",
    "# Delete all characters with ASCII not corresponding to a - z, A - Z and 0-9 and \".\"\n",
    "# Ignore bands with multiple countries\n",
    "# Ignore bands without obvious country\n",
    "# Ignore international bands"
   ]
  },
  {
   "cell_type": "code",
   "execution_count": 62,
   "metadata": {},
   "outputs": [
    {
     "name": "stdout",
     "output_type": "stream",
     "text": [
      "High five! You successfully sent some data to your account on plotly. View your plot in your browser at https://plot.ly/~Zobis/0 or inside your plot.ly account where it is named 'd3-world-map'\n"
     ]
    },
    {
     "data": {
      "text/html": [
       "<iframe id=\"igraph\" scrolling=\"no\" style=\"border:none;\" seamless=\"seamless\" src=\"https://plot.ly/~Zobis/0.embed\" height=\"525px\" width=\"100%\"></iframe>"
      ],
      "text/plain": [
       "<chart_studio.tools.PlotlyDisplay object>"
      ]
     },
     "execution_count": 62,
     "metadata": {},
     "output_type": "execute_result"
    }
   ],
   "source": [
    "# Mapping: Country x Graph Code\n",
    "\n",
    "data = [go.Choropleth(\n",
    "    locations = Grouped_Data['Code'],\n",
    "    z = Grouped_Data['Count'],\n",
    "    text = Grouped_Data['State'],\n",
    "    colorscale = [\n",
    "        [0, \"rgb(5, 10, 172)\"],\n",
    "        [0.2, \"rgb(40, 60, 190)\"],\n",
    "        [0.4, \"rgb(70, 100, 245)\"],\n",
    "        [0.6, \"rgb(90, 120, 245)\"],\n",
    "        [0.8, \"rgb(106, 137, 247)\"],\n",
    "        [1, \"rgb(220, 220, 220)\"]\n",
    "    ],\n",
    "    autocolorscale = False,\n",
    "    reversescale = True,\n",
    "    marker = go.choropleth.Marker(\n",
    "        line = go.choropleth.marker.Line(\n",
    "            color = 'rgb(180,180,180)',\n",
    "            width = 0.5\n",
    "        )),\n",
    "    colorbar = go.choropleth.ColorBar(\n",
    "        title = 'Scale - Number of Bands'),\n",
    ")]\n",
    "\n",
    "layout = go.Layout(\n",
    "    title = go.layout.Title(\n",
    "        text = sTitle\n",
    "    ),\n",
    "    geo = go.layout.Geo(\n",
    "        showframe = False,\n",
    "        showcoastlines = False,\n",
    "        projection = go.layout.geo.Projection(\n",
    "            type = 'equirectangular'\n",
    "        )\n",
    "    ),\n",
    "    annotations = [go.layout.Annotation(\n",
    "        x = 0.55,\n",
    "        y = 0.1,\n",
    "        xref = 'paper',\n",
    "        yref = 'paper',\n",
    "        #text = 'Source: <a href=\"https://www.cia.gov/library/publications/the-world-factbook/fields/2195.html\">\\\n",
    "            #CIA World Factbook</a>',\n",
    "        showarrow = False\n",
    "    )]\n",
    ")\n",
    "\n",
    "fig = go.Figure(data = data, layout = layout)\n",
    "py.iplot(fig, filename = 'd3-world-map')"
   ]
  },
  {
   "cell_type": "markdown",
   "metadata": {},
   "source": [
    "On the table you can see the scale of Metal bands within each country."
   ]
  },
  {
   "cell_type": "code",
   "execution_count": null,
   "metadata": {},
   "outputs": [],
   "source": []
  }
 ],
 "metadata": {
  "kernelspec": {
   "display_name": "Python 3",
   "language": "python",
   "name": "python3"
  },
  "language_info": {
   "codemirror_mode": {
    "name": "ipython",
    "version": 3
   },
   "file_extension": ".py",
   "mimetype": "text/x-python",
   "name": "python",
   "nbconvert_exporter": "python",
   "pygments_lexer": "ipython3",
   "version": "3.6.7"
  }
 },
 "nbformat": 4,
 "nbformat_minor": 2
}
